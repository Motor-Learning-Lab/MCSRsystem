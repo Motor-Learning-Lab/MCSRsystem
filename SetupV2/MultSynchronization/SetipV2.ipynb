{
 "cells": [
  {
   "cell_type": "code",
   "execution_count": 1,
   "metadata": {},
   "outputs": [],
   "source": [
    "import kineticstoolkit.lab as ktk\n",
    "import pandas as pd\n",
    "# Set an interactive backend, not required if already enabled in Spyder\n",
    "%matplotlib qt5\n",
    "import numpy as np\n",
    "import matplotlib.pyplot as plt"
   ]
  },
  {
   "cell_type": "code",
   "execution_count": 6,
   "metadata": {},
   "outputs": [
    {
     "name": "stderr",
     "output_type": "stream",
     "text": [
      "UserWarning [c:\\Users\\86153\\anaconda3\\envs\\ktk\\Lib\\site-packages\\kineticstoolkit\\files.py:519] In the specified file, points are expressed in mm. They were automatically converted to meters by scaling them by 0.001. Please note that if this file also contains calculated values such as angles, powers, etc., they were also (wrongly) scaled by 0.001. Consult https://kineticstoolkit.uqam.ca/doc/api/ktk.read_c3d.html for more information. You can mute this warning by explicitely setting `convert_point_unit` to either True or False.\n"
     ]
    }
   ],
   "source": [
    "# Relative path to the CSV file\n",
    "Subject2_SRdata_path = r\"../SRrawdata/Subject2/002_f_2024-10-28_14h24.22.400.csv\"\n",
    "\n",
    "# Read the CSV file into a DataFrame\n",
    "Subject2_SRdata = pd.read_csv(Subject2_SRdata_path)\n",
    "# Read the C3D fiel into a Dictionary\n",
    "Subject2_MCdata_path = r\"../MCrawdata/Subject2/Ex_V2_S2.c3d\"\n",
    "\n",
    "# Read the C3D fiel into a Dictionary\n",
    "Subject2_MCdata = ktk.read_c3d(Subject2_MCdata_path)['Points']"
   ]
  },
  {
   "cell_type": "code",
   "execution_count": 7,
   "metadata": {},
   "outputs": [
    {
     "data": {
      "text/plain": [
       "dict_keys(['PEN', 'R_H', 'L_H', 'L_S', 'R_S', 'R_L_E', 'R_M_E', 'R_L_W', 'R_M_W', 'R_L_H', 'R_M_H', 'R_F_S', 'R_B_S', 'Back'])"
      ]
     },
     "execution_count": 7,
     "metadata": {},
     "output_type": "execute_result"
    }
   ],
   "source": [
    "Subject2_MCdata.data.keys()"
   ]
  },
  {
   "cell_type": "code",
   "execution_count": 8,
   "metadata": {},
   "outputs": [],
   "source": [
    "interconnections = dict()\n",
    "\n",
    "interconnections[\"Hand\"] = {\n",
    "    \"Color\": (0, 0.5, 1),  # In (R,G,B) format (here, greenish blue)\n",
    "    \"Links\": [  # List of lines that span lists of markers\n",
    "        [\"R_L_H\", \"R_M_H\", \"R_M_W\", \"R_L_W\"],\n",
    "        ['R_L_H','R_L_W']\n",
    "    ],\n",
    "}\n",
    "\n",
    "interconnections[\"Thorax\"] = {\n",
    "    \"Color\": (0.5, 1, 0.5),\n",
    "    \"Links\": [\n",
    "        [\"R_S\", \"L_S\",\"Back\"],\n",
    "        ['R_S','Back']\n",
    "    ],\n",
    "}\n",
    "\n",
    "interconnections[\"Belly\"] = {\n",
    "    \"Color\": (0.5, 1, 0.5),\n",
    "    \"Links\": [\n",
    "        [\"R_H\", \"L_H\",\"Back\"],\n",
    "        ['R_H','Back']\n",
    "    ],\n",
    "}\n",
    "\n",
    "\n",
    "interconnections[\"Arm\"] = {\n",
    "    \"Color\": (1, 0.5, 1),\n",
    "    \"Links\": [\n",
    "        ['R_L_E', \"R_L_W\",\"R_M_W\",'R_M_E'],\n",
    "        ['R_L_E',\"R_S\",'R_M_E'],\n",
    "        ['R_L_E','R_M_E'],\n",
    "    ],\n",
    "}\n",
    "\n"
   ]
  },
  {
   "cell_type": "code",
   "execution_count": 9,
   "metadata": {},
   "outputs": [],
   "source": [
    "# p = ktk.Player()\n",
    "# p.set_contents(Subject2_MCdata)\n",
    "# p.set_interconnections(interconnections)\n",
    "# p.up = \"z\"\n",
    "# p.anterior = \"-y\"\n",
    "# p.set_view(\"back\")\n",
    "# p.play()"
   ]
  },
  {
   "cell_type": "code",
   "execution_count": 10,
   "metadata": {},
   "outputs": [],
   "source": [
    "# Assuming SRdata is your DataFrame\n",
    "# Initialize variables to store trial count and start/end times\n",
    "trial_count = 0\n",
    "start_end_times = []\n",
    "\n",
    "# Iterate through each row in the 'moving_mouse.time' column\n",
    "for i, row in Subject2_SRdata['moving_mouse.time'].items():\n",
    "    if pd.notna(row):\n",
    "        # Increment trial count\n",
    "        trial_count += 1\n",
    "        \n",
    "        # Convert the row to a list and get the first and last element\n",
    "        time_series = eval(row)  # Using eval to convert string representation of lists to actual lists\n",
    "        start_time = time_series[0]\n",
    "        end_time = time_series[-1]\n",
    "        \n",
    "        # Store the start and end times\n",
    "        start_end_times.append((start_time, end_time))"
   ]
  },
  {
   "cell_type": "markdown",
   "metadata": {},
   "source": [
    "Test the Angle and Angle Velocity we got form ktk"
   ]
  },
  {
   "cell_type": "code",
   "execution_count": 15,
   "metadata": {},
   "outputs": [
    {
     "name": "stderr",
     "output_type": "stream",
     "text": [
      "UserWarning [c:\\Users\\86153\\anaconda3\\envs\\ktk\\Lib\\site-packages\\kineticstoolkit\\files.py:519] In the specified file, points are expressed in mm. They were automatically converted to meters by scaling them by 0.001. Please note that if this file also contains calculated values such as angles, powers, etc., they were also (wrongly) scaled by 0.001. Consult https://kineticstoolkit.uqam.ca/doc/api/ktk.read_c3d.html for more information. You can mute this warning by explicitely setting `convert_point_unit` to either True or False.\n"
     ]
    }
   ],
   "source": [
    "# Read the C3D fiel into a Dictionary\n",
    "Subject2_R1_path = r\"../MCrawdata/Subject2/Ex_V2_R1_S20001.c3d\"\n",
    "Subject2_R2_path = r\"../MCrawdata/Subject2/Ex_V2_R2_S20002.c3d\"\n",
    "\n",
    "\n",
    "\n",
    "# Read the C3D fiel into a Dictionary\n",
    "Subject2_R1 = ktk.read_c3d(Subject2_R1_path)['Points']\n",
    "Subject2_R2 = ktk.read_c3d(Subject2_R2_path)['Points']"
   ]
  },
  {
   "cell_type": "code",
   "execution_count": 16,
   "metadata": {},
   "outputs": [],
   "source": [
    "# p = ktk.Player()\n",
    "# p.set_contents(Subject2_R2 )\n",
    "# p.set_interconnections(interconnections)\n",
    "# p.up = \"z\"\n",
    "# p.anterior = \"-y\"\n",
    "# p.set_view(\"back\")\n",
    "# p.play()"
   ]
  },
  {
   "cell_type": "code",
   "execution_count": 28,
   "metadata": {},
   "outputs": [],
   "source": [
    "\n",
    "Subject2_MCdata = Subject2_MCdata.ui_edit_events()"
   ]
  },
  {
   "cell_type": "code",
   "execution_count": 41,
   "metadata": {},
   "outputs": [
    {
     "data": {
      "text/plain": [
       "[TimeSeriesEvent(time=np.float64(17.58514717741936), name='Expstart')]"
      ]
     },
     "execution_count": 41,
     "metadata": {},
     "output_type": "execute_result"
    }
   ],
   "source": [
    "Subject2_MCdata.events"
   ]
  },
  {
   "cell_type": "code",
   "execution_count": 39,
   "metadata": {},
   "outputs": [],
   "source": [
    "index_expstart = Subject2_MCdata.get_index_at_event('Expstart')"
   ]
  },
  {
   "cell_type": "code",
   "execution_count": 42,
   "metadata": {},
   "outputs": [
    {
     "data": {
      "text/plain": [
       "np.float64(17.586666666666666)"
      ]
     },
     "execution_count": 42,
     "metadata": {},
     "output_type": "execute_result"
    }
   ],
   "source": [
    "Subject2_MCdata.time[index_expstart]"
   ]
  },
  {
   "cell_type": "code",
   "execution_count": 45,
   "metadata": {},
   "outputs": [],
   "source": [
    "# First start time\n",
    "first_start_time = start_end_times[0][0]-Subject2_MCdata.time[index_expstart]\n",
    "\n",
    "# Sync all times by subtracting the first start time\n",
    "synced_start_end_times = [(start - first_start_time, end - first_start_time) for start, end in start_end_times]"
   ]
  },
  {
   "cell_type": "code",
   "execution_count": 47,
   "metadata": {},
   "outputs": [],
   "source": [
    "# Set up the plot\n",
    "plt.figure(figsize=(10, 2))\n",
    "\n",
    "# Plot each event as a line on the timeline\n",
    "for (start, end) in synced_start_end_times:\n",
    "    plt.plot([start, end], [0, 0], marker='|', color='b', linewidth=1)\n",
    "\n",
    "# Label the axes\n",
    "plt.xlabel(\"Time (s)\")\n",
    "plt.yticks([])  # Hide y-axis labels since we don't need them\n",
    "plt.title(\"Event Timeline\")\n",
    "\n",
    "# Add grid for better visibility\n",
    "plt.grid(True, which='both', axis='x', linestyle='--', linewidth=0.5)\n",
    "\n",
    "Subject2_MCdata.plot(['PEN'])\n",
    "\n",
    "# Show the plot\n",
    "plt.show()"
   ]
  },
  {
   "cell_type": "markdown",
   "metadata": {},
   "source": [
    "## Create Local corrdinate system\n",
    "\n",
    "### Arm coordinate system"
   ]
  },
  {
   "cell_type": "code",
   "execution_count": null,
   "metadata": {},
   "outputs": [],
   "source": []
  },
  {
   "cell_type": "code",
   "execution_count": null,
   "metadata": {},
   "outputs": [],
   "source": []
  },
  {
   "cell_type": "code",
   "execution_count": null,
   "metadata": {},
   "outputs": [],
   "source": []
  },
  {
   "cell_type": "code",
   "execution_count": null,
   "metadata": {},
   "outputs": [],
   "source": []
  }
 ],
 "metadata": {
  "kernelspec": {
   "display_name": "ktk",
   "language": "python",
   "name": "python3"
  },
  "language_info": {
   "codemirror_mode": {
    "name": "ipython",
    "version": 3
   },
   "file_extension": ".py",
   "mimetype": "text/x-python",
   "name": "python",
   "nbconvert_exporter": "python",
   "pygments_lexer": "ipython3",
   "version": "3.12.5"
  }
 },
 "nbformat": 4,
 "nbformat_minor": 2
}
