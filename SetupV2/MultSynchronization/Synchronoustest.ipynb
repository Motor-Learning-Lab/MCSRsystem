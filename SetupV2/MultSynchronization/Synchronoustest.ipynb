{
 "cells": [
  {
   "cell_type": "markdown",
   "metadata": {},
   "source": [
    "# Synchronous Multiple Systems to get the interested raw data "
   ]
  },
  {
   "cell_type": "code",
   "execution_count": 19,
   "metadata": {},
   "outputs": [],
   "source": [
    "import kineticstoolkit.lab as ktk\n",
    "import pandas as pd\n",
    "# Set an interactive backend, not required if already enabled in Spyder\n",
    "%matplotlib qt5\n",
    "import numpy as np\n",
    "import matplotlib.pyplot as plt"
   ]
  },
  {
   "cell_type": "code",
   "execution_count": 5,
   "metadata": {},
   "outputs": [],
   "source": [
    "# Relative path to the CSV file\n",
    "SRdata_path = r\"../SRrawdata/Subject1/006_f_2024-10-09_17h13.30.859.csv\"\n",
    "MCdata_F = r\"../MCrawdata/Subject1/Ex_Synch_T0007.c3d\"\n",
    "MCdata_B = r\"../MCrawdata/Subject1/Ex_Synch_T0008.c3d\"\n",
    "MCdata_R = r\"../MCrawdata/Subject1/Ex_Synch_T0009.c3d\"\n",
    "# Read the CSV file into a DataFrame\n",
    "SRdata = pd.read_csv(SRdata_path)"
   ]
  },
  {
   "cell_type": "code",
   "execution_count": 21,
   "metadata": {},
   "outputs": [
    {
     "name": "stderr",
     "output_type": "stream",
     "text": [
      "UserWarning [c:\\Users\\86153\\anaconda3\\envs\\ktk\\Lib\\site-packages\\kineticstoolkit\\files.py:519] In the specified file, points are expressed in mm. They were automatically converted to meters by scaling them by 0.001. Please note that if this file also contains calculated values such as angles, powers, etc., they were also (wrongly) scaled by 0.001. Consult https://kineticstoolkit.uqam.ca/doc/api/ktk.read_c3d.html for more information. You can mute this warning by explicitely setting `convert_point_unit` to either True or False.\n"
     ]
    }
   ],
   "source": [
    "c3d_MCdata_F = ktk.read_c3d(MCdata_F)['Points']\n",
    "c3d_MCdata_B = ktk.read_c3d(MCdata_B)['Points']\n",
    "c3d_MCdata_R = ktk.read_c3d(MCdata_R)['Points']\n"
   ]
  },
  {
   "cell_type": "markdown",
   "metadata": {},
   "source": [
    "## Check the points in the 3d marker videos"
   ]
  },
  {
   "cell_type": "code",
   "execution_count": 24,
   "metadata": {},
   "outputs": [],
   "source": [
    "p = ktk.Player()\n",
    "p.set_contents(c3d_MCdata_F)\n",
    "p.play()"
   ]
  },
  {
   "cell_type": "code",
   "execution_count": 62,
   "metadata": {},
   "outputs": [],
   "source": [
    "c3d_MCdata_F.plot(['PEN'])"
   ]
  },
  {
   "cell_type": "code",
   "execution_count": 39,
   "metadata": {},
   "outputs": [],
   "source": [
    "c3d_MCdata_B.plot(['PEN'])"
   ]
  },
  {
   "cell_type": "code",
   "execution_count": 42,
   "metadata": {},
   "outputs": [],
   "source": [
    "c3d_MCdata_R.plot(['PEN'])"
   ]
  },
  {
   "cell_type": "code",
   "execution_count": 36,
   "metadata": {},
   "outputs": [],
   "source": [
    "# SRdata['moving_mouse.time']"
   ]
  },
  {
   "cell_type": "code",
   "execution_count": 35,
   "metadata": {},
   "outputs": [],
   "source": [
    "# Assuming SRdata is your DataFrame\n",
    "# Initialize variables to store trial count and start/end times\n",
    "trial_count = 0\n",
    "start_end_times = []\n",
    "\n",
    "# Iterate through each row in the 'moving_mouse.time' column\n",
    "for i, row in SRdata['moving_mouse.time'].items():\n",
    "    if pd.notna(row):\n",
    "        # Increment trial count\n",
    "        trial_count += 1\n",
    "        \n",
    "        # Convert the row to a list and get the first and last element\n",
    "        time_series = eval(row)  # Using eval to convert string representation of lists to actual lists\n",
    "        start_time = time_series[0]\n",
    "        end_time = time_series[-1]\n",
    "        \n",
    "        # Store the start and end times\n",
    "        start_end_times.append((start_time, end_time))\n",
    "\n",
    "# # Print the total number of trials\n",
    "# print(f\"Total number of trials: {trial_count}\")\n",
    "\n",
    "# # Print the start and end times of each trial\n",
    "# for idx, (start, end) in enumerate(start_end_times):\n",
    "#     print(f\"Trial {idx + 1}: Start Time = {start}, End Time = {end}\")"
   ]
  },
  {
   "cell_type": "code",
   "execution_count": 59,
   "metadata": {},
   "outputs": [],
   "source": [
    "# Set up the plot\n",
    "plt.figure(figsize=(10, 2))\n",
    "\n",
    "# Plot each event as a line on the timeline\n",
    "for (start, end) in start_end_times:\n",
    "    plt.plot([start, end], [0, 0], marker='|', color='b', linewidth=1)\n",
    "\n",
    "# Label the axes\n",
    "plt.xlabel(\"Time (s)\")\n",
    "plt.yticks([])  # Hide y-axis labels since we don't need them\n",
    "plt.title(\"Event Timeline\")\n",
    "\n",
    "# Add grid for better visibility\n",
    "plt.grid(True, which='both', axis='x', linestyle='--', linewidth=0.5)\n",
    "\n",
    "# Show the plot\n",
    "plt.show()"
   ]
  },
  {
   "cell_type": "code",
   "execution_count": 49,
   "metadata": {},
   "outputs": [
    {
     "data": {
      "text/plain": [
       "103.62553079996724"
      ]
     },
     "execution_count": 49,
     "metadata": {},
     "output_type": "execute_result"
    }
   ],
   "source": [
    "start_end_times[10][0]"
   ]
  },
  {
   "cell_type": "code",
   "execution_count": 50,
   "metadata": {},
   "outputs": [
    {
     "data": {
      "text/plain": [
       "317.47396679996746"
      ]
     },
     "execution_count": 50,
     "metadata": {},
     "output_type": "execute_result"
    }
   ],
   "source": [
    "start_end_times[41][0]"
   ]
  },
  {
   "cell_type": "code",
   "execution_count": 60,
   "metadata": {},
   "outputs": [],
   "source": [
    "# Get the start time from start_end_times\n",
    "new_time_zero = start_end_times[10][0]\n",
    "\n",
    "# Subtract the start time from the existing time array\n",
    "shifted_time = c3d_MCdata_B.time + new_time_zero\n",
    "\n",
    "# Create a copy of c3d_MCdata_B and update its time attribute\n",
    "shifted_c3d_MCdata_B = c3d_MCdata_B.copy()\n",
    "shifted_c3d_MCdata_B.time = shifted_time\n",
    "\n",
    "# Plot the shifted time series with the 'PEN' data\n",
    "shifted_c3d_MCdata_B.plot(['PEN'])"
   ]
  },
  {
   "cell_type": "code",
   "execution_count": 61,
   "metadata": {},
   "outputs": [],
   "source": [
    "# Get the start time from start_end_times\n",
    "new_time_zero = start_end_times[41][0]\n",
    "\n",
    "# Subtract the start time from the existing time array\n",
    "shifted_time = c3d_MCdata_R.time + new_time_zero\n",
    "\n",
    "# Create a copy of c3d_MCdata_B and update its time attribute\n",
    "shifted_c3d_MCdata_R = c3d_MCdata_R.copy()\n",
    "shifted_c3d_MCdata_R.time = shifted_time\n",
    "\n",
    "# Plot the shifted time series with the 'PEN' data\n",
    "shifted_c3d_MCdata_R.plot(['PEN'])"
   ]
  }
 ],
 "metadata": {
  "kernelspec": {
   "display_name": "ktk",
   "language": "python",
   "name": "python3"
  },
  "language_info": {
   "codemirror_mode": {
    "name": "ipython",
    "version": 3
   },
   "file_extension": ".py",
   "mimetype": "text/x-python",
   "name": "python",
   "nbconvert_exporter": "python",
   "pygments_lexer": "ipython3",
   "version": "3.12.5"
  }
 },
 "nbformat": 4,
 "nbformat_minor": 2
}
