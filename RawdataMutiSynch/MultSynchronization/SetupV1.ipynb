{
 "cells": [
  {
   "cell_type": "code",
   "execution_count": 1,
   "metadata": {},
   "outputs": [],
   "source": [
    "import kineticstoolkit.lab as ktk\n",
    "import pandas as pd\n",
    "# Set an interactive backend, not required if already enabled in Spyder\n",
    "%matplotlib qt5\n",
    "import numpy as np\n",
    "import matplotlib.pyplot as plt"
   ]
  },
  {
   "cell_type": "code",
   "execution_count": 2,
   "metadata": {},
   "outputs": [],
   "source": [
    "# Relative path to the CSV file\n",
    "Noam_SRdata_path = r\"../SRrawdata/Noam/100_f_2024-10-10_13h15.14.567.csv\"\n",
    "Yixin_SRdata_path = r\"../SRrawdata/Yixin/200_f_2024-10-10_14h36.19.697.csv\"\n",
    "\n",
    "Noam_MCdata_F_path = r\"../MCrawdata/Noam/Ex_Kinematic_T0013.c3d\"\n",
    "Noam_MCdata_B_path = r\"../MCrawdata/Noam/Ex_Kinematic_T0014.c3d\"\n",
    "Noam_MCdata_R_path = r\"../MCrawdata/Noam/Ex_Kinematic_T0015.c3d\"\n",
    "Yixin_MCdata_F_path = r\"../MCrawdata/Yixin/Ex_Kinematic_T0017.c3d\"\n",
    "Yixin_MCdata_B_path = r\"../MCrawdata/Yixin/Ex_Kinematic_T0018.c3d\"\n",
    "Yixin_MCdata_R_path = r\"../MCrawdata/Yixin/Ex_Kinematic_T0019.c3d\"\n",
    "# Read the CSV file into a DataFrame\n",
    "Noam_SRdata = pd.read_csv(Noam_SRdata_path)\n",
    "Yixin_SRdata = pd.read_csv(Yixin_SRdata_path)"
   ]
  },
  {
   "cell_type": "code",
   "execution_count": 3,
   "metadata": {},
   "outputs": [
    {
     "name": "stderr",
     "output_type": "stream",
     "text": [
      "UserWarning [c:\\Users\\86153\\anaconda3\\envs\\ktk\\Lib\\site-packages\\kineticstoolkit\\files.py:519] In the specified file, points are expressed in mm. They were automatically converted to meters by scaling them by 0.001. Please note that if this file also contains calculated values such as angles, powers, etc., they were also (wrongly) scaled by 0.001. Consult https://kineticstoolkit.uqam.ca/doc/api/ktk.read_c3d.html for more information. You can mute this warning by explicitely setting `convert_point_unit` to either True or False.\n"
     ]
    }
   ],
   "source": [
    "# Read the C3D fiel into a Dictionary\n",
    "Noam_MCdata_F = ktk.read_c3d(Noam_MCdata_F_path)['Points']\n",
    "Noam_MCdata_B = ktk.read_c3d(Noam_MCdata_B_path)['Points']\n",
    "Noam_MCdata_R = ktk.read_c3d(Noam_MCdata_R_path)['Points']\n",
    "\n",
    "\n",
    "Yixin_MCdata_F = ktk.read_c3d(Yixin_MCdata_F_path)['Points']\n",
    "Yixin_MCdata_B = ktk.read_c3d(Yixin_MCdata_B_path)['Points']\n",
    "Yixin_MCdata_R = ktk.read_c3d(Yixin_MCdata_R_path)['Points']"
   ]
  },
  {
   "cell_type": "code",
   "execution_count": 4,
   "metadata": {},
   "outputs": [
    {
     "data": {
      "text/plain": [
       "dict_keys(['PEN', 'R_H', 'L_H', 'L_S', 'R_S', 'R_L_E', 'R_M_E', 'R_L_W', 'R_M_W', 'R_L_H', 'R_M_H'])"
      ]
     },
     "execution_count": 4,
     "metadata": {},
     "output_type": "execute_result"
    }
   ],
   "source": [
    "Noam_MCdata_F.data.keys()"
   ]
  },
  {
   "cell_type": "code",
   "execution_count": 5,
   "metadata": {},
   "outputs": [],
   "source": [
    "interconnections = dict()\n",
    "\n",
    "interconnections[\"Hand\"] = {\n",
    "    \"Color\": (0, 0.5, 1),  # In (R,G,B) format (here, greenish blue)\n",
    "    \"Links\": [  # List of lines that span lists of markers\n",
    "        [\"R_L_H\", \"R_M_H\", \"R_M_W\", \"R_L_W\"],\n",
    "        ['R_L_H','R_L_W']\n",
    "    ],\n",
    "}\n",
    "\n",
    "interconnections[\"Trunk\"] = {\n",
    "    \"Color\": (0.5, 1, 0.5),\n",
    "    \"Links\": [\n",
    "        [\"R_H\", \"R_S\", \"L_S\",\"L_H\"],\n",
    "        ['R_H','L_H']\n",
    "    ],\n",
    "}\n",
    "\n",
    "interconnections[\"Arm\"] = {\n",
    "    \"Color\": (1, 0.5, 1),\n",
    "    \"Links\": [\n",
    "        ['R_L_E', \"R_L_W\",\"R_M_W\",'R_M_E'],\n",
    "        ['R_L_E',\"R_S\",'R_M_E'],\n",
    "        ['R_L_E','R_M_E'],\n",
    "    ],\n",
    "}\n",
    "\n",
    "\n"
   ]
  },
  {
   "cell_type": "markdown",
   "metadata": {},
   "source": [
    "## Check the points in the 3d marker videos"
   ]
  },
  {
   "cell_type": "code",
   "execution_count": 6,
   "metadata": {},
   "outputs": [],
   "source": [
    "# p = ktk.Player()\n",
    "# p.set_contents(Yixin_MCdata_B)\n",
    "# p.set_interconnections(interconnections)\n",
    "# p.up = \"z\"\n",
    "# p.anterior = \"-y\"\n",
    "# p.set_view(\"back\")\n",
    "# p.play()\n"
   ]
  },
  {
   "cell_type": "code",
   "execution_count": 7,
   "metadata": {},
   "outputs": [],
   "source": [
    "# p.to_video(\"Yixin_B.mp4\")"
   ]
  },
  {
   "cell_type": "markdown",
   "metadata": {},
   "source": [
    "## Check the synchronization effect"
   ]
  },
  {
   "cell_type": "code",
   "execution_count": 8,
   "metadata": {},
   "outputs": [],
   "source": [
    "# Assuming SRdata is your DataFrame\n",
    "# Initialize variables to store trial count and start/end times\n",
    "trial_count = 0\n",
    "start_end_times = []\n",
    "\n",
    "# Iterate through each row in the 'moving_mouse.time' column\n",
    "for i, row in Yixin_SRdata['moving_mouse.time'].items():\n",
    "    if pd.notna(row):\n",
    "        # Increment trial count\n",
    "        trial_count += 1\n",
    "        \n",
    "        # Convert the row to a list and get the first and last element\n",
    "        time_series = eval(row)  # Using eval to convert string representation of lists to actual lists\n",
    "        start_time = time_series[0]\n",
    "        end_time = time_series[-1]\n",
    "        \n",
    "        # Store the start and end times\n",
    "        start_end_times.append((start_time, end_time))\n",
    "\n",
    "# # Print the total number of trials\n",
    "# print(f\"Total number of trials: {trial_count}\")\n",
    "\n",
    "# # Print the start and end times of each trial\n",
    "# for idx, (start, end) in enumerate(start_end_times):\n",
    "#     print(f\"Trial {idx + 1}: Start Time = {start}, End Time = {end}\")"
   ]
  },
  {
   "cell_type": "code",
   "execution_count": 9,
   "metadata": {},
   "outputs": [],
   "source": [
    "# Get the start time from start_end_times\n",
    "new_time_zero = start_end_times[10][0]\n",
    "\n",
    "# Subtract the start time from the existing time array\n",
    "shifted_time = Yixin_MCdata_B.time + new_time_zero\n",
    "\n",
    "# Create a copy of c3d_MCdata_B and update its time attribute\n",
    "shifted_c3d_MCdata_B = Yixin_MCdata_B.copy()\n",
    "shifted_c3d_MCdata_B.time = shifted_time\n",
    "\n",
    "# # Plot the shifted time series with the 'PEN' data\n",
    "# shifted_c3d_MCdata_B.plot(['PEN'])"
   ]
  },
  {
   "cell_type": "code",
   "execution_count": 10,
   "metadata": {},
   "outputs": [],
   "source": [
    "# Get the start time from start_end_times\n",
    "new_time_zero = start_end_times[41][0]\n",
    "\n",
    "# Subtract the start time from the existing time array\n",
    "shifted_time = Yixin_MCdata_R.time + new_time_zero\n",
    "\n",
    "# Create a copy of c3d_MCdata_B and update its time attribute\n",
    "shifted_c3d_MCdata_R = Yixin_MCdata_R.copy()\n",
    "shifted_c3d_MCdata_R.time = shifted_time\n",
    "\n",
    "# # Plot the shifted time series with the 'PEN' data\n",
    "# shifted_c3d_MCdata_R.plot(['PEN'])"
   ]
  },
  {
   "cell_type": "code",
   "execution_count": 45,
   "metadata": {},
   "outputs": [],
   "source": [
    "\n",
    "# Set up the plot\n",
    "plt.figure(figsize=(10, 2))\n",
    "\n",
    "# Plot each event as a line on the timeline\n",
    "for (start, end) in start_end_times:\n",
    "    plt.plot([start, end], [0, 0], marker='|', color='b', linewidth=1)\n",
    "\n",
    "# Label the axes\n",
    "plt.xlabel(\"Time (s)\")\n",
    "plt.yticks([])  # Hide y-axis labels since we don't need them\n",
    "plt.title(\"Event Timeline\")\n",
    "\n",
    "# Add grid for better visibility\n",
    "plt.grid(True, which='both', axis='x', linestyle='--', linewidth=0.5)\n",
    "\n",
    "Yixin_MCdata_F.plot(['PEN'])\n",
    "shifted_c3d_MCdata_B.plot(['PEN'])\n",
    "shifted_c3d_MCdata_R.plot(['PEN'])\n",
    "\n",
    "# Show the plot\n",
    "plt.show()\n"
   ]
  },
  {
   "cell_type": "markdown",
   "metadata": {},
   "source": [
    "## Create Local corrdinate system\n",
    "\n",
    "### Arm coordinate system\n"
   ]
  },
  {
   "cell_type": "code",
   "execution_count": 12,
   "metadata": {},
   "outputs": [],
   "source": [
    "origin = Yixin_MCdata_B.data[\"R_S\"]"
   ]
  },
  {
   "cell_type": "code",
   "execution_count": 13,
   "metadata": {},
   "outputs": [],
   "source": [
    "y = Yixin_MCdata_B.data[\"R_S\"] - 0.5 * (\n",
    "    Yixin_MCdata_B.data[\"R_L_E\"] + Yixin_MCdata_B.data[\"R_M_E\"]\n",
    ")\n",
    "yz = Yixin_MCdata_B.data[\"R_M_E\"] - Yixin_MCdata_B.data[\"R_L_E\"]"
   ]
  },
  {
   "cell_type": "code",
   "execution_count": 14,
   "metadata": {},
   "outputs": [],
   "source": [
    "frames = ktk.TimeSeries(time= Yixin_MCdata_B.time)"
   ]
  },
  {
   "cell_type": "code",
   "execution_count": 15,
   "metadata": {},
   "outputs": [],
   "source": [
    "frames.data[\"ArmR\"] = ktk.geometry.create_frames(origin=origin, y=y, yz=yz)"
   ]
  },
  {
   "cell_type": "code",
   "execution_count": 16,
   "metadata": {},
   "outputs": [],
   "source": [
    "# p = ktk.Player()\n",
    "# p.set_contents(Yixin_MCdata_B.merge(frames))\n",
    "# p.set_interconnections(interconnections)"
   ]
  },
  {
   "cell_type": "code",
   "execution_count": 17,
   "metadata": {},
   "outputs": [],
   "source": [
    "# p.up = \"z\"\n",
    "# p.anterior = \"-y\"\n",
    "# p.set_view(\"back\")\n",
    "# p.play()"
   ]
  },
  {
   "cell_type": "markdown",
   "metadata": {},
   "source": [
    "### Forearm frame"
   ]
  },
  {
   "cell_type": "code",
   "execution_count": 18,
   "metadata": {},
   "outputs": [],
   "source": [
    "origin = Yixin_MCdata_B.data[\"R_L_W\"]"
   ]
  },
  {
   "cell_type": "code",
   "execution_count": 19,
   "metadata": {},
   "outputs": [],
   "source": [
    "y = ( 0.5 *\n",
    "    (Yixin_MCdata_B.data[\"R_L_E\"] + Yixin_MCdata_B.data[\"R_M_E\"])\n",
    "    - Yixin_MCdata_B.data[\"R_L_W\"]\n",
    ")\n",
    "\n",
    "yz = Yixin_MCdata_B.data[\"R_M_W\"] - Yixin_MCdata_B.data[\"R_L_W\"]"
   ]
  },
  {
   "cell_type": "code",
   "execution_count": 20,
   "metadata": {},
   "outputs": [],
   "source": [
    "frames.data[\"ForearmR\"] = ktk.geometry.create_frames(origin=origin, y=y, yz=yz)"
   ]
  },
  {
   "cell_type": "code",
   "execution_count": 21,
   "metadata": {},
   "outputs": [],
   "source": [
    "# p.set_contents(Yixin_MCdata_B.merge(frames))"
   ]
  },
  {
   "cell_type": "markdown",
   "metadata": {},
   "source": [
    "### Hand frame "
   ]
  },
  {
   "cell_type": "code",
   "execution_count": 22,
   "metadata": {},
   "outputs": [],
   "source": [
    "origin = Yixin_MCdata_B.data[\"R_L_W\"]"
   ]
  },
  {
   "cell_type": "code",
   "execution_count": 23,
   "metadata": {},
   "outputs": [],
   "source": [
    "y = ( 0.5 *\n",
    "    (Yixin_MCdata_B.data[\"R_L_H\"] + Yixin_MCdata_B.data[\"R_M_H\"])\n",
    "    - Yixin_MCdata_B.data[\"R_L_W\"]\n",
    ")\n",
    "\n",
    "yz = Yixin_MCdata_B.data[\"R_M_W\"] - Yixin_MCdata_B.data[\"R_L_W\"]"
   ]
  },
  {
   "cell_type": "code",
   "execution_count": 24,
   "metadata": {},
   "outputs": [],
   "source": [
    "frames.data[\"HandR\"] = ktk.geometry.create_frames(origin=origin, y=y, yz=yz)"
   ]
  },
  {
   "cell_type": "code",
   "execution_count": 25,
   "metadata": {},
   "outputs": [],
   "source": [
    "# p.set_contents(Yixin_MCdata_B.merge(frames))"
   ]
  },
  {
   "cell_type": "markdown",
   "metadata": {},
   "source": [
    "### Trunk frame"
   ]
  },
  {
   "cell_type": "code",
   "execution_count": 26,
   "metadata": {},
   "outputs": [],
   "source": [
    "origin = 0.5*(Yixin_MCdata_B.data[\"R_S\"]+Yixin_MCdata_B.data[\"L_S\"])"
   ]
  },
  {
   "cell_type": "code",
   "execution_count": 27,
   "metadata": {},
   "outputs": [],
   "source": [
    "y = 0.5*(Yixin_MCdata_B.data[\"R_S\"]+Yixin_MCdata_B.data[\"L_S\"]) - 0.5 * (\n",
    "    Yixin_MCdata_B.data[\"R_H\"] + Yixin_MCdata_B.data[\"L_H\"]\n",
    ")\n",
    "yz = Yixin_MCdata_B.data[\"R_H\"] - Yixin_MCdata_B.data[\"L_H\"]"
   ]
  },
  {
   "cell_type": "code",
   "execution_count": 28,
   "metadata": {},
   "outputs": [],
   "source": [
    "frames.data[\"Trunk\"] = ktk.geometry.create_frames(origin=origin, y=y, yz=yz)"
   ]
  },
  {
   "cell_type": "code",
   "execution_count": 29,
   "metadata": {},
   "outputs": [],
   "source": [
    "# p.set_contents(Yixin_MCdata_B.merge(frames))"
   ]
  },
  {
   "cell_type": "markdown",
   "metadata": {},
   "source": [
    "### Global transform"
   ]
  },
  {
   "cell_type": "code",
   "execution_count": 30,
   "metadata": {},
   "outputs": [],
   "source": [
    "global_transform = ktk.geometry.create_transforms(\n",
    "        seq=\"xy\", angles=[[-90, -90]], degrees=True\n",
    "    )"
   ]
  },
  {
   "cell_type": "markdown",
   "metadata": {},
   "source": [
    "### Find the series of homogeneous transforms between both segments"
   ]
  },
  {
   "cell_type": "code",
   "execution_count": 31,
   "metadata": {},
   "outputs": [],
   "source": [
    "arm_to_forearm = ktk.geometry.get_local_coordinates(\n",
    "    frames.data[\"ForearmR\"], frames.data[\"ArmR\"]\n",
    ")\n",
    "\n",
    "# arm_to_forearm"
   ]
  },
  {
   "cell_type": "code",
   "execution_count": 32,
   "metadata": {},
   "outputs": [],
   "source": [
    "forearm_to_hand = ktk.geometry.get_local_coordinates(\n",
    "    frames.data[\"HandR\"], frames.data[\"ForearmR\"]\n",
    ")"
   ]
  },
  {
   "cell_type": "code",
   "execution_count": 33,
   "metadata": {},
   "outputs": [],
   "source": [
    "trunk_to_arm = ktk.geometry.get_local_coordinates(\n",
    "    frames.data[\"ArmR\"], frames.data[\"Trunk\"]\n",
    ")"
   ]
  },
  {
   "cell_type": "code",
   "execution_count": 34,
   "metadata": {},
   "outputs": [],
   "source": [
    "global_to_trunk = ktk.geometry.get_local_coordinates(\n",
    "    frames.data[\"Trunk\"], global_transform\n",
    ")"
   ]
  },
  {
   "cell_type": "code",
   "execution_count": 35,
   "metadata": {},
   "outputs": [],
   "source": [
    "euler_angles = ktk.geometry.get_angles(arm_to_forearm, \"ZXY\", degrees=True)\n",
    "euler_angles2 = ktk.geometry.get_angles(forearm_to_hand, \"ZXY\", degrees=True)\n",
    "euler_angles3 = ktk.geometry.get_angles(trunk_to_arm, \"ZXY\", degrees=True)\n",
    "euler_angles4 = ktk.geometry.get_angles(global_to_trunk, \"ZXY\", degrees=True)\n",
    "\n",
    "# euler_angles"
   ]
  },
  {
   "cell_type": "code",
   "execution_count": 37,
   "metadata": {},
   "outputs": [],
   "source": [
    "angles = ktk.TimeSeries(time=Yixin_MCdata_B.time)\n",
    "\n",
    "angles.data[\"Elbow flexion\"] = euler_angles[:, 0]\n",
    "angles.data[\"Forearm pronation\"] = euler_angles[:, 2]\n",
    "\n",
    "\n",
    "\n",
    "angles = angles.add_data_info(\"Elbow flexion\", \"Unit\", \"deg\")\n",
    "angles = angles.add_data_info(\"Forearm pronation\", \"Unit\", \"deg\")"
   ]
  },
  {
   "cell_type": "code",
   "execution_count": 38,
   "metadata": {},
   "outputs": [],
   "source": [
    "# Set up the plot\n",
    "plt.figure(figsize=(10, 2))\n",
    "\n",
    "angles.plot()"
   ]
  },
  {
   "cell_type": "code",
   "execution_count": 39,
   "metadata": {},
   "outputs": [],
   "source": [
    "euler_vels = ktk.filters.deriv(angles)"
   ]
  },
  {
   "cell_type": "code",
   "execution_count": 40,
   "metadata": {},
   "outputs": [
    {
     "data": {
      "text/plain": [
       "array([  0.00333333,   0.01      ,   0.01666667, ..., 230.53      ,\n",
       "       230.53666667, 230.54333333])"
      ]
     },
     "execution_count": 40,
     "metadata": {},
     "output_type": "execute_result"
    }
   ],
   "source": [
    "euler_vels.time"
   ]
  },
  {
   "cell_type": "code",
   "execution_count": 41,
   "metadata": {},
   "outputs": [
    {
     "data": {
      "text/plain": [
       "array([ 0.09736888, -0.49432241,  0.11652547, ..., -7.82765734,\n",
       "       -9.13275093, -9.12608669])"
      ]
     },
     "execution_count": 41,
     "metadata": {},
     "output_type": "execute_result"
    }
   ],
   "source": [
    "euler_vels.data[\"Elbow flexion\"]"
   ]
  },
  {
   "cell_type": "code",
   "execution_count": 42,
   "metadata": {},
   "outputs": [
    {
     "data": {
      "text/plain": [
       "Text(0, 0.5, 'deg/s')"
      ]
     },
     "execution_count": 42,
     "metadata": {},
     "output_type": "execute_result"
    }
   ],
   "source": [
    "# Set up the plot\n",
    "plt.figure(figsize=(10, 2))\n",
    "euler_vels.plot()\n",
    "plt.ylabel('deg/s')"
   ]
  },
  {
   "cell_type": "code",
   "execution_count": 43,
   "metadata": {},
   "outputs": [],
   "source": [
    "plt.figure(figsize=(10, 2))\n",
    "plt.plot(angles.time, euler_angles2[:, 0], label='Z')\n",
    "plt.plot(angles.time, euler_angles2[:, 1], label='X')\n",
    "plt.plot(angles.time, euler_angles2[:, 2], label='Y')\n",
    "plt.title('ZXY, global_to_trunk')\n",
    "plt.ylabel('deg')\n",
    "plt.legend()\n",
    "# plt.ylim(-100,100)\n",
    "plt.show()"
   ]
  },
  {
   "cell_type": "code",
   "execution_count": null,
   "metadata": {},
   "outputs": [],
   "source": []
  },
  {
   "cell_type": "markdown",
   "metadata": {},
   "source": [
    "## Play ktk video"
   ]
  },
  {
   "cell_type": "code",
   "execution_count": 44,
   "metadata": {},
   "outputs": [],
   "source": [
    "p = ktk.Player(Yixin_MCdata_B)\n",
    "p.set_interconnections(interconnections)\n",
    "p.set_contents(Yixin_MCdata_B.merge(frames))\n",
    "p.up = \"z\"\n",
    "p.anterior = \"-y\"\n",
    "p.set_view(\"back\")\n",
    "p.play()"
   ]
  }
 ],
 "metadata": {
  "kernelspec": {
   "display_name": "ktk",
   "language": "python",
   "name": "python3"
  },
  "language_info": {
   "codemirror_mode": {
    "name": "ipython",
    "version": 3
   },
   "file_extension": ".py",
   "mimetype": "text/x-python",
   "name": "python",
   "nbconvert_exporter": "python",
   "pygments_lexer": "ipython3",
   "version": "3.12.5"
  }
 },
 "nbformat": 4,
 "nbformat_minor": 2
}
